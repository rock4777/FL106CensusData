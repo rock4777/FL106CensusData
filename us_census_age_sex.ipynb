{
 "cells": [
  {
   "cell_type": "markdown",
   "metadata": {},
   "source": [
    "Python libraries used in this notebook."
   ]
  },
  {
   "cell_type": "code",
   "execution_count": 1,
   "metadata": {},
   "outputs": [],
   "source": [
    "import pandas as pd\n",
    "import requests\n"
   ]
  },
  {
   "cell_type": "markdown",
   "metadata": {},
   "source": [
    "Generate map of census tracts for the 100th state congress district of Florida"
   ]
  },
  {
   "cell_type": "code",
   "execution_count": 2,
   "metadata": {},
   "outputs": [],
   "source": [
    "resp = requests.get('https://api.census.gov/data/2020/dec/pl?get=NAME&for=tract%20(or%20part):*&in=state:12%20state%20legislative%20district%20(lower%20chamber):100%20county%20(or%20part):086')\n",
    "txt = resp.json()\n",
    "map = pd.DataFrame(txt)"
   ]
  },
  {
   "cell_type": "code",
   "execution_count": 3,
   "metadata": {},
   "outputs": [],
   "source": [
    "new_header = map.iloc[0] \n",
    "map = map[1:] \n",
    "map.columns = new_header \n",
    "map.reset_index(inplace=True, drop=True)"
   ]
  },
  {
   "cell_type": "code",
   "execution_count": 4,
   "metadata": {},
   "outputs": [],
   "source": [
    "map['CensusTract'] = map['NAME']"
   ]
  },
  {
   "cell_type": "code",
   "execution_count": 5,
   "metadata": {},
   "outputs": [
    {
     "name": "stderr",
     "output_type": "stream",
     "text": [
      "/tmp/ipykernel_62685/2880120312.py:3: FutureWarning: The default value of regex will change from True to False in a future version.\n",
      "  map['CensusTract'] = map['CensusTract'].str.replace(\"\\(part\\)\",\"\")\n"
     ]
    }
   ],
   "source": [
    "map['CensusTract'] = map['CensusTract'].str.replace(\"Census Tract \",\"\") \n",
    "map['CensusTract'] = map['CensusTract'].str.split(',').str[0]\n",
    "map['CensusTract'] = map['CensusTract'].str.replace(\"\\(part\\)\",\"\") "
   ]
  },
  {
   "cell_type": "markdown",
   "metadata": {},
   "source": [
    "Cleanup census age and gender demographics."
   ]
  },
  {
   "cell_type": "code",
   "execution_count": 6,
   "metadata": {},
   "outputs": [],
   "source": [
    "df = pd.read_excel('ACSST5Y2020.S0101-2022-07-11T025947.xlsx')\n",
    "df['CensusTract'] = df['CensusTract'].str.replace(\"Census Tract\",\"\") \n",
    "df['CensusTract'] = df['CensusTract'].str.replace(\", Miami-Dade County, Florida\",\"\")\n",
    "df['CensusTract'] = df['CensusTract'].str.strip()\n",
    "df = df.set_index('CensusTract')"
   ]
  },
  {
   "cell_type": "code",
   "execution_count": 7,
   "metadata": {},
   "outputs": [],
   "source": [
    "df.index = pd.Series(df.index).fillna(method='ffill')"
   ]
  },
  {
   "cell_type": "code",
   "execution_count": 8,
   "metadata": {},
   "outputs": [],
   "source": [
    "values = ['Total', 'Percent', 'Percent Female', 'Percent Male']\n",
    "\n",
    "for i in values:\n",
    "    df = df[df.AgeGroup != i]"
   ]
  },
  {
   "cell_type": "code",
   "execution_count": 9,
   "metadata": {},
   "outputs": [],
   "source": [
    "df.rename({'AgeGroup': 'Gender'}, axis=1, inplace=True)"
   ]
  },
  {
   "cell_type": "code",
   "execution_count": 10,
   "metadata": {},
   "outputs": [],
   "source": [
    "df = df.melt(id_vars=['Gender'], var_name='AgeGroup', value_name='Count', ignore_index=False)"
   ]
  },
  {
   "cell_type": "markdown",
   "metadata": {},
   "source": [
    "filter age and gender demo by florida 100th census tracts"
   ]
  },
  {
   "cell_type": "code",
   "execution_count": 11,
   "metadata": {},
   "outputs": [],
   "source": [
    "df = df[df.index.isin(map['CensusTract'])]"
   ]
  },
  {
   "cell_type": "code",
   "execution_count": 12,
   "metadata": {},
   "outputs": [],
   "source": [
    "df.to_excel(\"output_age_sex_miami_dade_100th.xlsx\", sheet_name='Data')"
   ]
  }
 ],
 "metadata": {
  "kernelspec": {
   "display_name": "Python 3.10.5 ('base')",
   "language": "python",
   "name": "python3"
  },
  "language_info": {
   "codemirror_mode": {
    "name": "ipython",
    "version": 3
   },
   "file_extension": ".py",
   "mimetype": "text/x-python",
   "name": "python",
   "nbconvert_exporter": "python",
   "pygments_lexer": "ipython3",
   "version": "3.10.5"
  },
  "orig_nbformat": 4,
  "vscode": {
   "interpreter": {
    "hash": "d4d1e4263499bec80672ea0156c357c1ee493ec2b1c70f0acce89fc37c4a6abe"
   }
  }
 },
 "nbformat": 4,
 "nbformat_minor": 2
}
